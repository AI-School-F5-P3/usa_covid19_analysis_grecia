{
 "cells": [
  {
   "cell_type": "markdown",
   "metadata": {},
   "source": [
    "# Análisis de COVID-19 en Estados Unidos"
   ]
  },
  {
   "cell_type": "code",
   "execution_count": null,
   "metadata": {},
   "outputs": [],
   "source": [
    "import pandas as pd\n",
    "import matplotlib.pyplot as plt\n",
    "import seaborn as sns\n",
    "from pathlib import Path"
   ]
  },
  {
   "cell_type": "code",
   "execution_count": null,
   "metadata": {},
   "outputs": [],
   "source": [
    "# Cargar los datos procesados\n",
    "data_dir = Path.cwd().parent / 'data' / 'processed'\n",
    "df = pd.read_csv(data_dir / 'cleaned_covid19_data.csv', parse_dates=['date'])\n",
    "df.head()"
   ]
  },
  {
   "cell_type": "markdown",
   "metadata": {},
   "source": [
    "## Exploración Inicial de Datos"
   ]
  },
  {
   "cell_type": "code",
   "execution_count": null,
   "metadata": {},
   "outputs": [],
   "source": [
    "print(df.info())\n",
    "print(\"\\nEstadísticas descriptivas:\")\n",
    "df.describe()"
   ]
  },
  {
   "cell_type": "markdown",
   "metadata": {},
   "source": [
    "## Análisis de Casos Totales por Estado"
   ]
  },
  {
   "cell_type": "code",
   "execution_count": null,
   "metadata": {},
   "outputs": [],
   "source": [
    "plt.figure(figsize=(12, 6))\n",
    "cases_by_state = df.groupby('state')['positive'].max().sort_values(ascending=False)\n",
    "cases_by_state.plot(kind='bar')\n",
    "plt.title('Casos totales de COVID-19 por estado')\n",
    "plt.xlabel('Estado')\n",
    "plt.ylabel('Número de casos')\n",
    "plt.xticks(rotation=90)\n",
    "plt.tight_layout()\n",
    "plt.show()\n",
    "\n",
    "print(f\"El estado con más casos es {cases_by_state.index[0]} con {cases_by_state.iloc[0]:,} casos.\")\n",
    "print(f\"Los 5 estados más afectados son: {', '.join(cases_by_state.index[:5])}\")"
   ]
  },
  {
   "cell_type": "markdown",
   "metadata": {},
   "source": [
    "## Evolución de Casos en los Estados Más Afectados"
   ]
  },
  {
   "cell_type": "code",
   "execution_count": null,
   "metadata": {},
   "outputs": [],
   "source": [
    "top_5_states = cases_by_state.index[:5]\n",
    "plt.figure(figsize=(12, 6))\n",
    "for state in top_5_states:\n",
    "    state_data = df[df['state'] == state].sort_values('date')\n",
    "    plt.plot(state_data['date'], state_data['positive'], label=state)\n",
    "plt.title('Evolución de casos en los 5 estados más afectados')\n",
    "plt.xlabel('Fecha')\n",
    "plt.ylabel('Número de casos')\n",
    "plt.legend()\n",
    "plt.tight_layout()\n",
    "plt.show()"
   ]
  },
  {
   "cell_type": "markdown",
   "metadata": {},
   "source": [
    "## Análisis de la Tasa de Mortalidad"
   ]
  },
  {
   "cell_type": "code",
   "execution_count": null,
   "metadata": {},
   "outputs": [],
   "source": [
    "df['mortality_rate'] = df['death'] / df['positive'] * 100\n",
    "mortality_rate = df.groupby('state')['mortality_rate'].mean().sort_values(ascending=False)\n",
    "\n",
    "plt.figure(figsize=(12, 6))\n",
    "mortality_rate.plot(kind='bar')\n",
    "plt.title('Tasa de mortalidad promedio por estado')\n",
    "plt.xlabel('Estado')\n",
    "plt.ylabel('Tasa de mortalidad (%)')\n",
    "plt.xticks(rotation=90)\n",
    "plt.tight_layout()\n",
    "plt.show()\n",
    "\n",
    "print(f\"El estado con la tasa de mortalidad más alta es {mortality_rate.index[0]} con {mortality_rate.iloc[0]:.2f}%\")\n",
    "print(f\"El estado con la tasa de mortalidad más baja es {mortality_rate.index[-1]} con {mortality_rate.iloc[-1]:.2f}%\")"
   ]
  },
  {
   "cell_type": "markdown",
   "metadata": {},
   "source": [
    "## Correlación entre Variables"
   ]
  },
  {
   "cell_type": "code",
   "execution_count": null,
   "metadata": {},
   "outputs": [],
   "source": [
    "correlation_matrix = df[['positive', 'negative', 'death', 'hospitalized']].corr()\n",
    "plt.figure(figsize=(10, 8))\n",
    "sns.heatmap(correlation_matrix, annot=True, cmap='coolwarm')\n",
    "plt.title('Correlación entre variables')\n",
    "plt.tight_layout()\n",
    "plt.show()"
   ]
  },
  {
   "cell_type": "markdown",
   "metadata": {},
   "source": [
    "## Conclusiones"
   ]
  },
  {
   "cell_type": "markdown",
   "metadata": {},
   "source": [
    "Basado en nuestro análisis, podemos concluir lo siguiente:\n",
    "\n",
    "1. **Los estados más afectados en términos de casos totales son**:\n",
    "   - El estado con más casos es California con 3,751,028 casos.\n",
    "   - Los 5 estados más afectados son: California, Texas, Florida, Nueva York y Illinois.\n",
    "\n",
    "2. **La evolución de casos muestra que**:\n",
    "   - Los estados más afectados han tenido un aumento constante en el número de casos a lo largo del tiempo, con picos significativos en ciertos periodos.\n",
    "\n",
    "3. **En cuanto a la tasa de mortalidad, observamos que**:\n",
    "   - El estado con la tasa de mortalidad más alta es Nueva Jersey con un 8.92%.\n",
    "   - El estado con la tasa de mortalidad más baja es Utah con un 0.55%.\n",
    "\n",
    "4. **La correlación entre variables indica que**:\n",
    "   - Existe una alta correlación positiva entre el número de casos positivos y el número de muertes, lo cual es esperado.\n",
    "   - También hay una correlación significativa entre el número de casos positivos y el número de hospitalizaciones.\n",
    "\n",
    "Estas conclusiones nos permiten entender mejor la situación de la pandemia de COVID-19 en Estados Unidos y podrían ser útiles para informar políticas de salud pública y medidas de prevención."
   ]
  }
 ],
 "metadata": {
  "kernelspec": {
   "display_name": "Python 3 (ipykernel)",
   "language": "python",
   "name": "python3"
  },
  "language_info": {
   "codemirror_mode": {
    "name": "ipython",
    "version": 3
   },
   "file_extension": ".py",
   "mimetype": "text/x-python",
   "name": "python",
   "nbconvert_exporter": "python",
   "pygments_lexer": "ipython3",
   "version": "3.12.1"
  }
 },
 "nbformat": 4,
 "nbformat_minor": 4
}
